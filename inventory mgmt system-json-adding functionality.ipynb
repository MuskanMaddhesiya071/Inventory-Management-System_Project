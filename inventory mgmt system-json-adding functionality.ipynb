{
 "cells": [
  {
   "cell_type": "code",
   "execution_count": 16,
   "id": "b48aa6c9",
   "metadata": {},
   "outputs": [
    {
     "name": "stdout",
     "output_type": "stream",
     "text": [
      "--------------------MENU---------------------\n",
      "1001 5 Star 10 195\n",
      "---------------------------------------------\n",
      "\n",
      "1002 Bar-One 20 0\n",
      "---------------------------------------------\n",
      "\n",
      "1003 Candy 2 0\n",
      "---------------------------------------------\n",
      "\n",
      "1004 Chocolate Cake 550 0\n",
      "---------------------------------------------\n",
      "\n",
      "1005 Blueberry Cake 650 0\n",
      "---------------------------------------------\n",
      "\n",
      "Enter product ID : 1005\n",
      "Enter Quantity   : 5\n",
      "Sorry, we do not have enough quantity\n",
      "We have only 0 quantity\n",
      "---------------------------------------------\n",
      "Enter y/Y to purchase available stock and press n to leave n\n",
      "Thanks\n"
     ]
    }
   ],
   "source": [
    "import json\n",
    "\n",
    "f = open(\"inventory mgmt sys.json\", \"r\")\n",
    "js = f.read()\n",
    "f.close()\n",
    "\n",
    "record = json.loads(js)\n",
    "\n",
    "print(\"--------------------MENU---------------------\")\n",
    "for key in record.keys():\n",
    "    print(key, record[key]['Name'], record[key]['Price'], record[key]['Qn'])\n",
    "    print(\"---------------------------------------------\")\n",
    "    print('')\n",
    "\n",
    "ui_pr = str(input(\"Enter product ID : \"))\n",
    "ui_qn = int(input(\"Enter Quantity   : \"))\n",
    "\n",
    "\n",
    "if record[ui_pr][\"Qn\"] >= ui_qn:\n",
    "        record[ui_pr]['Qn'] = record[ui_pr]['Qn'] - ui_qn\n",
    "        print(\"--------------------------------------------\")\n",
    "        print(\"                BILL                        \")\n",
    "        print(\"Name      : \", record[ui_pr][\"Name\"])\n",
    "        print(\"Price (Rs): \", record[ui_pr][\"Price\"])\n",
    "        print(\"Quantity  : \", ui_qn)\n",
    "        print(\"---------------------------------------------\")\n",
    "        print(\"Billing Amount   : \", record[ui_pr][\"Price\"] * ui_qn, \"Rs\")\n",
    "        print(\"---------------------------------------------\")\n",
    "        \n",
    "else:\n",
    "    print(\"Sorry, we do not have enough quantity\")\n",
    "    print(\"We have only\", record[ui_pr][\"Qn\"], \"quantity\")\n",
    "    print(\"---------------------------------------------\")\n",
    "    \n",
    "    ch = input(\"Enter y/Y to purchase available stock and press n to leave \")\n",
    "    \n",
    "    if ch == \"y\" or ch == \"Y\":\n",
    "        print(\"--------------------------------------------\")\n",
    "        print(\"                BILL                        \")\n",
    "        print(\"Name      : \", record[ui_pr][\"Name\"])\n",
    "        print(\"Price (Rs): \", record[ui_pr][\"Price\"])\n",
    "        print(\"Quantity  : \", record[ui_pr][\"Qn\"])\n",
    "        print(\"---------------------------------------------\")\n",
    "        print(\"Billing Amount   : \", record[ui_pr][\"Price\"] * record[ui_pr][\"Qn\"], \"Rs\")\n",
    "        print(\"---------------------------------------------\")\n",
    "        \n",
    "        \n",
    "        record[ui_pr]['Qn'] = 0\n",
    "    else:\n",
    "        print(\"Thanks\")\n",
    "\n",
    "js = json.dumps(record)\n",
    "f = open(\"inventory mgmt sys.json\", \"w\")\n",
    "f.write(js)\n",
    "f.close()\n"
   ]
  },
  {
   "cell_type": "code",
   "execution_count": null,
   "id": "b7a10e4c",
   "metadata": {},
   "outputs": [],
   "source": []
  }
 ],
 "metadata": {
  "kernelspec": {
   "display_name": "Python 3 (ipykernel)",
   "language": "python",
   "name": "python3"
  },
  "language_info": {
   "codemirror_mode": {
    "name": "ipython",
    "version": 3
   },
   "file_extension": ".py",
   "mimetype": "text/x-python",
   "name": "python",
   "nbconvert_exporter": "python",
   "pygments_lexer": "ipython3",
   "version": "3.11.7"
  }
 },
 "nbformat": 4,
 "nbformat_minor": 5
}
